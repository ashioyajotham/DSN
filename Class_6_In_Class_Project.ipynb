{
  "nbformat": 4,
  "nbformat_minor": 0,
  "metadata": {
    "colab": {
      "name": "Class 6: In Class Project.ipynb",
      "provenance": [],
      "include_colab_link": true
    },
    "kernelspec": {
      "name": "python3",
      "display_name": "Python 3"
    },
    "language_info": {
      "name": "python"
    }
  },
  "cells": [
    {
      "cell_type": "markdown",
      "metadata": {
        "id": "view-in-github",
        "colab_type": "text"
      },
      "source": [
        "<a href=\"https://colab.research.google.com/github/ashioyajotham/DSN/blob/main/Class_6_In_Class_Project.ipynb\" target=\"_parent\"><img src=\"https://colab.research.google.com/assets/colab-badge.svg\" alt=\"Open In Colab\"/></a>"
      ]
    },
    {
      "cell_type": "markdown",
      "source": [
        "Be the hero of the day by predicting the survival of Titanic passengers\n",
        "\n",
        "Competition Description\n",
        "\n",
        "The sinking of the RMS Titanic is one of the most infamous shipwrecks in history. On April 15, 1912, during her maiden voyage, the Titanic sank after colliding with an iceberg, killing 1502 out of 2224 passengers and crew. This sensational tragedy shocked the international community and led to better safety regulations for ships.\n",
        "\n",
        "One of the reasons that the shipwreck led to such loss of life was that there were not enough lifeboats for the passengers and crew. Although there was some element of luck involved in surviving the sinking, some groups of people were more likely to survive than others, such as women, children, and the upper-class.\n",
        "\n",
        "In this challenge, we ask you to complete the analysis of what sorts of people were likely to survive. \n",
        "\n",
        "**In particular, we ask you to apply the tools of machine learning to predict which passengers survived the tragedy.**\n",
        "GoodLuck!!!"
      ],
      "metadata": {
        "id": "g7kxp3LOM9XZ"
      }
    },
    {
      "cell_type": "markdown",
      "source": [
        "![image.png](data:image/png;base64,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)"
      ],
      "metadata": {
        "id": "lf7rcsBlWLS9"
      }
    },
    {
      "cell_type": "markdown",
      "source": [
        "#### Previous notebooks used in this class can be accessed below:\n",
        "\n",
        "1. [Linear Regression](https://colab.research.google.com/drive/1FFhkwU6gplsnlhoqkCzkkSD5fF3nsFc0?usp=sharing)\n",
        "2. [Classification](https://bit.ly/AIECOLAB2) "
      ],
      "metadata": {
        "id": "Mlh64lQgXI8Y"
      }
    },
    {
      "cell_type": "markdown",
      "source": [
        "### More Resources:\n",
        "1. Exploratory Data Analysis, Feature Engineering and Modelling using Supermarket Sales Data.\n",
        "Part 1. By Rising Odegua https://towardsdatascience.com/exploratory-data-analysis-featureengineering-and-modelling-using-supermarket-sales-data-part-1-228140f89298\n",
        "2. A Practical Guide to Feature Engineering in Python By Rising Odegua https://heartbeat.fritz.ai/apractical-guide-to-feature-engineering-in-python-8326e40747c8\n",
        "3. train_test_split Vs StratifiedShuffleSplit - Brain John By Brain John\n",
        "https://medium.com/@411.codebrain/train-test-split-vs-stratifiedshufflesplit-374c3dbdcc36\n",
        "4. Introduction to Exploratory Data Analysis (EDA) - Code Heroku https://medium.com/codeheroku/introduction-to-exploratory-data-analysis-eda-c0257f888676\n",
        "5. Data Preprocessing for Machine Learning - Data-Driven Investor\n",
        "https://medium.com/datadriveninvestor/data-preprocessing-for-machine-learning-188e9eef1d2c\n",
        "6. Processing Data To Improve Machine Learning Models Accuracy\n",
        "https://medium.com/fintechexplained/processing-data-to-improve-machine-learning-modelsaccuracy-de17c655dc8e\n",
        "7. How To Develop a Machine Learning Model From Scratch\n",
        "https://towardsdatascience.com/machine-learning-general-process-8f1b510bd8af\n",
        "8. All Machine Learning Models Explained in 6 Minutes\n",
        "https://towardsdatascience.com/all-machine-learning-models-explained-in-6-minutes-9fe30ff6776a\n",
        "9. 7 Ways to Improve your Predictive Models - Rants on Machine Learning\n",
        "https://medium.com/rants-on-machine-learning/7-ways-to-improve-your-predictive-models-753705eba3d6\n",
        "10. 3 ways to improve your Machine Learning results without more data https://towardsdatascience.com/3-ways-to-improve-your-machine-learning-results-without-more-data-f2f0fe78976e"
      ],
      "metadata": {
        "id": "K0WavPM-Y0Mv"
      }
    },
    {
      "cell_type": "code",
      "execution_count": null,
      "metadata": {
        "id": "NGXmVHolML6J"
      },
      "outputs": [],
      "source": [
        "import pandas as pd\n",
        "url = 'https://drive.google.com/file/d/1BNrbPshNvrNHiTe1o-Cp1gpJKY-chv5Z/view?usp=sharing'\n",
        "url= 'https://drive.google.com/uc?id=' + url.split('/')[-2]\n",
        "\n",
        "titanic = pd.read_csv(url)"
      ]
    },
    {
      "cell_type": "code",
      "source": [
        "from sklearn.metrics import f1_score\n",
        "# print(f1_score(y_test, predictions))"
      ],
      "metadata": {
        "id": "vL8NUvuEhj7c"
      },
      "execution_count": null,
      "outputs": []
    },
    {
      "cell_type": "markdown",
      "source": [
        "# Building Machine Learning Models is fun!"
      ],
      "metadata": {
        "id": "RCrmcpzZk6Hz"
      }
    },
    {
      "cell_type": "markdown",
      "source": [
        "# Submit your f1_score:\n",
        "# https://bit.ly/AIESubmission\n"
      ],
      "metadata": {
        "id": "iFD4rkpoqeuY"
      }
    }
  ]
}